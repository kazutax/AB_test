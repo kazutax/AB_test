{
 "cells": [
  {
   "cell_type": "markdown",
   "id": "178c3921-bab4-4d70-8fd9-887d722b2d2a",
   "metadata": {},
   "source": [
    "# Bayesian A/B Testing"
   ]
  },
  {
   "cell_type": "code",
   "execution_count": 1,
   "id": "d59e81c6-08a7-4434-865c-c8973190190b",
   "metadata": {},
   "outputs": [
    {
     "name": "stdout",
     "output_type": "stream",
     "text": [
      "/Users/kazutak/Git/AB_test/.venv/bin/python\n",
      "3.9.9 (main, Apr 22 2023, 13:11:31) \n",
      "[Clang 14.0.0 (clang-1400.0.29.202)]\n"
     ]
    }
   ],
   "source": [
    "import sys\n",
    "print(sys.executable)\n",
    "print(sys.version)"
   ]
  },
  {
   "cell_type": "code",
   "execution_count": 2,
   "id": "2e0cef96-d5ab-41e5-ba7b-f20c807d2006",
   "metadata": {},
   "outputs": [],
   "source": [
    "import numpy as np\n",
    "\n",
    "%config InlineBackend.figure_format = 'retina'"
   ]
  },
  {
   "cell_type": "code",
   "execution_count": null,
   "id": "deef1e67-7168-4dc6-8290-e74b61c12455",
   "metadata": {},
   "outputs": [],
   "source": []
  },
  {
   "cell_type": "code",
   "execution_count": null,
   "id": "64bf3285-a6eb-4b84-b89b-774316b7fcd9",
   "metadata": {},
   "outputs": [],
   "source": []
  },
  {
   "cell_type": "code",
   "execution_count": null,
   "id": "eb5a6fc6-5bfd-48ee-aa99-beb59c3a60d3",
   "metadata": {},
   "outputs": [],
   "source": []
  }
 ],
 "metadata": {
  "kernelspec": {
   "display_name": "ab_test",
   "language": "python",
   "name": "ab_test"
  },
  "language_info": {
   "codemirror_mode": {
    "name": "ipython",
    "version": 3
   },
   "file_extension": ".py",
   "mimetype": "text/x-python",
   "name": "python",
   "nbconvert_exporter": "python",
   "pygments_lexer": "ipython3",
   "version": "3.9.9"
  }
 },
 "nbformat": 4,
 "nbformat_minor": 5
}
