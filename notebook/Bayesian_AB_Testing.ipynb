{
 "cells": [
  {
   "cell_type": "markdown",
   "id": "178c3921-bab4-4d70-8fd9-887d722b2d2a",
   "metadata": {},
   "source": [
    "# Bayesian A/B Testing\n",
    "\n",
    "+ 参考\n",
    "> [ウェブ最適化ではじめる機械学習](https://www.amazon.co.jp/dp/4873119162) <br>\n",
    "> [ベイズ推定を用いたA/Bテストの評価を実際に試してみた](https://www.ai-shift.co.jp/techblog/2952)"
   ]
  },
  {
   "cell_type": "code",
   "execution_count": null,
   "id": "2e0cef96-d5ab-41e5-ba7b-f20c807d2006",
   "metadata": {},
   "outputs": [],
   "source": []
  },
  {
   "cell_type": "code",
   "execution_count": null,
   "id": "deef1e67-7168-4dc6-8290-e74b61c12455",
   "metadata": {},
   "outputs": [],
   "source": []
  },
  {
   "cell_type": "code",
   "execution_count": null,
   "id": "64bf3285-a6eb-4b84-b89b-774316b7fcd9",
   "metadata": {},
   "outputs": [],
   "source": []
  },
  {
   "cell_type": "code",
   "execution_count": null,
   "id": "eb5a6fc6-5bfd-48ee-aa99-beb59c3a60d3",
   "metadata": {},
   "outputs": [],
   "source": []
  }
 ],
 "metadata": {
  "kernelspec": {
   "display_name": "ab_test",
   "language": "python",
   "name": "ab_test"
  },
  "language_info": {
   "codemirror_mode": {
    "name": "ipython",
    "version": 3
   },
   "file_extension": ".py",
   "mimetype": "text/x-python",
   "name": "python",
   "nbconvert_exporter": "python",
   "pygments_lexer": "ipython3",
   "version": "3.9.7"
  }
 },
 "nbformat": 4,
 "nbformat_minor": 5
}
