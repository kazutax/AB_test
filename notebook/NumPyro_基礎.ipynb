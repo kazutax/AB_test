{
 "cells": [
  {
   "cell_type": "markdown",
   "id": "fdb6249b-55ff-4682-88b1-610b7443db27",
   "metadata": {},
   "source": [
    "# NumPyro 基礎"
   ]
  },
  {
   "cell_type": "code",
   "execution_count": 2,
   "id": "7bfbc6c2-d9cb-4c4a-8cbb-0055baf4f1e2",
   "metadata": {},
   "outputs": [],
   "source": [
    "import numpyro\n",
    "import numpyro.distributions as dist\n",
    "\n",
    "import jax\n",
    "import arviz as az"
   ]
  },
  {
   "cell_type": "code",
   "execution_count": 3,
   "id": "22647aa4-cfe7-493f-8ca2-5a15c53bffee",
   "metadata": {},
   "outputs": [],
   "source": [
    "def model(y = None, num_data = 0):\n",
    "    mu = numpyro.sample('mu', dist.HalfNormal(10))\n",
    "    with numpyro.plate('data', num_data):\n",
    "        numpyro.sample('obs', dist.Poisson(mu), obs = y)"
   ]
  },
  {
   "cell_type": "code",
   "execution_count": 4,
   "id": "1be88888-aab0-4b3e-b20f-328112592d31",
   "metadata": {},
   "outputs": [
    {
     "name": "stderr",
     "output_type": "stream",
     "text": [
      "/var/folders/03/smvv0jp54c5cnt0xtqz_1gkc0000gn/T/ipykernel_67402/4254253802.py:2: UserWarning: There are not enough devices to run parallel chains: expected 4 but got 1. Chains will be drawn sequentially. If you are running MCMC in CPU, consider using `numpyro.set_host_device_count(4)` at the beginning of your program. You can double-check how many devices are available in your system using `jax.local_device_count()`.\n",
      "  mcmc = numpyro.infer.MCMC(nuts, num_warmup = 500, num_samples = 3000, num_chains = 4)\n"
     ]
    }
   ],
   "source": [
    "nuts = numpyro.infer.NUTS(model)\n",
    "mcmc = numpyro.infer.MCMC(nuts, num_warmup = 500, num_samples = 3000, num_chains = 4)"
   ]
  },
  {
   "cell_type": "code",
   "execution_count": 5,
   "id": "ac6bfb2b-cf3a-40f9-a538-213eb2548783",
   "metadata": {},
   "outputs": [
    {
     "ename": "NameError",
     "evalue": "name 'y' is not defined",
     "output_type": "error",
     "traceback": [
      "\u001b[0;31m---------------------------------------------------------------------------\u001b[0m",
      "\u001b[0;31mNameError\u001b[0m                                 Traceback (most recent call last)",
      "Cell \u001b[0;32mIn[5], line 1\u001b[0m\n\u001b[0;32m----> 1\u001b[0m mcmc\u001b[38;5;241m.\u001b[39mrun(jax\u001b[38;5;241m.\u001b[39mrandom\u001b[38;5;241m.\u001b[39mPRNGKey(\u001b[38;5;241m0\u001b[39m), y \u001b[38;5;241m=\u001b[39m \u001b[43my\u001b[49m, num_data \u001b[38;5;241m=\u001b[39m \u001b[38;5;28mlen\u001b[39m(y))\n\u001b[1;32m      2\u001b[0m mcmc_samples \u001b[38;5;241m=\u001b[39m mcmc\u001b[38;5;241m.\u001b[39mget_samples()\n",
      "\u001b[0;31mNameError\u001b[0m: name 'y' is not defined"
     ]
    }
   ],
   "source": [
    "mcmc.run(jax.random.PRNGKey(0), y = y, num_data = len(y))\n",
    "mcmc_samples = mcmc.get_samples()"
   ]
  },
  {
   "cell_type": "code",
   "execution_count": null,
   "id": "072f74aa-ae97-4027-80a3-84ea26b43af0",
   "metadata": {},
   "outputs": [],
   "source": [
    "idata = az.from_numpyro(mcmc)s"
   ]
  },
  {
   "cell_type": "code",
   "execution_count": null,
   "id": "ce75945b-2e30-4d2d-b2f3-91cc42144096",
   "metadata": {},
   "outputs": [],
   "source": []
  },
  {
   "cell_type": "code",
   "execution_count": null,
   "id": "bd7e178e-5039-496f-9790-59483a4b5599",
   "metadata": {},
   "outputs": [],
   "source": []
  },
  {
   "cell_type": "code",
   "execution_count": null,
   "id": "e51b09b6-c8b1-4f89-aee8-9fdfca9e29ce",
   "metadata": {},
   "outputs": [],
   "source": []
  }
 ],
 "metadata": {
  "kernelspec": {
   "display_name": "Python 3 (ipykernel)",
   "language": "python",
   "name": "python3"
  },
  "language_info": {
   "codemirror_mode": {
    "name": "ipython",
    "version": 3
   },
   "file_extension": ".py",
   "mimetype": "text/x-python",
   "name": "python",
   "nbconvert_exporter": "python",
   "pygments_lexer": "ipython3",
   "version": "3.9.7"
  }
 },
 "nbformat": 4,
 "nbformat_minor": 5
}
