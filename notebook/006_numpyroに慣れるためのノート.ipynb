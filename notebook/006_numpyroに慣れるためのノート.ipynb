{
 "cells": [
  {
   "cell_type": "markdown",
   "id": "beb9e3a2-1d22-45b5-a6ba-680faa573feb",
   "metadata": {},
   "source": [
    "# とにかく NumPyro に慣れるためのノート"
   ]
  },
  {
   "cell_type": "code",
   "execution_count": null,
   "id": "f8e59811-dc64-451a-be6d-0e1d7cefc5f2",
   "metadata": {},
   "outputs": [],
   "source": [
    "import numpyro\n",
    "import numpyro.distributions as dist\n",
    "\n",
    "import jax\n",
    "import arviz as az\n",
    "\n",
    "import numpy as np\n",
    "import pandas as pd\n",
    "\n",
    "import matplotlib.pyplot as plt\n",
    "import seaborn as sns\n",
    "%config InlineBackend.figure_format = 'retina'"
   ]
  },
  {
   "cell_type": "code",
   "execution_count": null,
   "id": "2501675f-55b4-438a-8d38-690ad3eefe4a",
   "metadata": {},
   "outputs": [],
   "source": [
    "# cpu がどんな感じで動いているか？\n",
    "jax.devices()"
   ]
  },
  {
   "cell_type": "code",
   "execution_count": null,
   "id": "7806029b-6017-401e-965a-00ec27010e19",
   "metadata": {},
   "outputs": [],
   "source": [
    "data = pd.DataFrame({\n",
    "\n",
    "    'yield':[7, 13, 13, 11, 5, 6, 8, 11, 10, 11, 11, 11, 11, 14, 8, 15, 10, 9, 13, 12, 8, 15, 7, 11, 5, 11,\n",
    "             15, 10, 13, 9, 8, 12, 13, 6, 8, 5, 13, 8, 5, 10, 18, 9, 7, 12, 11, 5, 9, 10, 13, 13, 7, 12, 8, 16, 10,\n",
    "             6, 12, 13, 10, 12, 9, 7, 12, 11, 8, 15, 13, 11, 9, 17, 11, 10, 15, 19, 11, 13, 12, 9, 10, 10],\n",
    "    'group':[0, 0, 0, 0, 0, 0, 0, 0, 0, 0, 0, 0, 0, 0, 0, 0, 0, 0, 0, 0, \n",
    "             0, 0, 0, 0, 0, 0, 0, 0, 0, 0, 0, 0, 0, 0, 0, 0, 0, 0, 0, 0, 0, 0, 0, 0, 0, 0, 0, 0, 0, 0, \n",
    "             1, 1, 1, 1, 1, 1, 1, 1, 1, 1, 1, 1, 1, 1, 1, 1, 1, 1, 1, 1, 1, 1, 1, 1, 1, 1, 1, 1, 1, 1]\n",
    "\n",
    "})"
   ]
  },
  {
   "cell_type": "code",
   "execution_count": null,
   "id": "cb4bbf16-f6f9-4685-a0cc-1c165bc4f2b1",
   "metadata": {},
   "outputs": [],
   "source": [
    "y = data['yield'].values"
   ]
  },
  {
   "cell_type": "code",
   "execution_count": null,
   "id": "7ccd3bf3-6bd1-4436-8281-7478e70388ca",
   "metadata": {},
   "outputs": [],
   "source": [
    "np.mean(y)"
   ]
  },
  {
   "cell_type": "code",
   "execution_count": null,
   "id": "9ffa475e-732e-4324-b91e-087b491996d2",
   "metadata": {},
   "outputs": [],
   "source": [
    "np.var(y)"
   ]
  },
  {
   "cell_type": "markdown",
   "id": "33ceb0b7-3028-4eb6-9a31-0ecd36eff447",
   "metadata": {},
   "source": [
    "### ポイント\n",
    "平均と分散が同じくらいだからおそらくポワソン分布っぽいね"
   ]
  },
  {
   "cell_type": "code",
   "execution_count": null,
   "id": "0ccef4a2-ca11-444e-99c3-be31fdb2e61d",
   "metadata": {},
   "outputs": [],
   "source": [
    "fig, axes = plt.subplots(1, 2, figsize = (12, 4))\n",
    "\n",
    "sns.histplot(y, binwidth = 1, ax = axes[0])\n",
    "axes[0].set_xlabel('Yield')\n",
    "\n",
    "sns.histplot(y, binwidth = 3, ax = axes[1])\n",
    "axes[1].set_xlabel('Yield')\n",
    "\n",
    "plt.tight_layout()"
   ]
  },
  {
   "cell_type": "markdown",
   "id": "9fc96cd3-5981-4c5e-8795-de5960894c4f",
   "metadata": {},
   "source": [
    "## モデル定義"
   ]
  },
  {
   "cell_type": "code",
   "execution_count": null,
   "id": "1ba0f723-63b7-4b89-8e3c-f1e39848e41b",
   "metadata": {},
   "outputs": [],
   "source": [
    "def model(y = None, num_data = 0):\n",
    "    # パラメーターの事前分布\n",
    "    mu = numpyro.sample('mu', dist.HalfNormal(10))\n",
    "    # 観測データに基づく尤度の定義\n",
    "    with numpyro.plate('data', num_data):\n",
    "        numpyro.sample('obs', dist.Poisson(mu), obs = y)"
   ]
  },
  {
   "cell_type": "code",
   "execution_count": null,
   "id": "830d4900-ac56-46ce-ad36-a4471aece8cd",
   "metadata": {},
   "outputs": [],
   "source": [
    "nuts = numpyro.infer.NUTS(model)\n",
    "mcmc = numpyro.infer.MCMC(nuts, num_warmup = 500, num_samples = 3000, num_chains = 4)\n",
    "\n",
    "mcmc.run(jax.random.PRNGKey(0), y = y, num_data = len(y))"
   ]
  },
  {
   "cell_type": "code",
   "execution_count": null,
   "id": "5c1d16f6-d1c9-4623-a281-ea8eedb3463c",
   "metadata": {},
   "outputs": [],
   "source": [
    "mcmc_samples = mcmc.get_samples()"
   ]
  },
  {
   "cell_type": "code",
   "execution_count": null,
   "id": "fd5c3544-3035-4c21-8930-f93bb0d65f13",
   "metadata": {},
   "outputs": [],
   "source": [
    "mcmc_samples"
   ]
  },
  {
   "cell_type": "code",
   "execution_count": null,
   "id": "9dd5a7c7-6d02-49aa-9c77-db1b40590534",
   "metadata": {},
   "outputs": [],
   "source": [
    "# inference data object に変換\n",
    "idata = az.from_numpyro(mcmc)"
   ]
  },
  {
   "cell_type": "code",
   "execution_count": null,
   "id": "91cfde0c-4662-4f4d-aa32-84ac589258cf",
   "metadata": {},
   "outputs": [],
   "source": [
    "idata"
   ]
  },
  {
   "cell_type": "code",
   "execution_count": null,
   "id": "9147d4d8-366a-4a66-9827-85d23e116107",
   "metadata": {},
   "outputs": [],
   "source": [
    "az.plot_trace(idata)"
   ]
  },
  {
   "cell_type": "code",
   "execution_count": null,
   "id": "1d761ac6-0423-42dd-a5fe-7a73d02225bf",
   "metadata": {},
   "outputs": [],
   "source": [
    "az.summary(idata)"
   ]
  },
  {
   "cell_type": "code",
   "execution_count": null,
   "id": "1395be4a-f71a-4486-9896-d19817577670",
   "metadata": {},
   "outputs": [],
   "source": [
    "az.plot_posterior(idata)"
   ]
  },
  {
   "cell_type": "code",
   "execution_count": null,
   "id": "399f106f-cb17-40a8-b3d6-4c3a167458d0",
   "metadata": {},
   "outputs": [],
   "source": [
    "idata.posterior['mu']"
   ]
  },
  {
   "cell_type": "markdown",
   "id": "b70b6ca8-9d3f-4ee1-8668-b12ded2e0cad",
   "metadata": {},
   "source": [
    "### 事後予測チェック PPC\n",
    "モデルが上手くできているか？"
   ]
  },
  {
   "cell_type": "code",
   "execution_count": null,
   "id": "de1f6fca-2aa8-43da-b736-60461acc597c",
   "metadata": {},
   "outputs": [],
   "source": [
    "predictive = numpyro.infer.Predictive(model, mcmc_samples)\n",
    "\n",
    "ppc_samples = predictive(jax.random.PRNGKey(1), num_data = len(y))"
   ]
  },
  {
   "cell_type": "code",
   "execution_count": null,
   "id": "00ca25ca-91bb-4970-afaa-c42492c67354",
   "metadata": {},
   "outputs": [],
   "source": [
    "idata_ppc = az.from_numpyro(mcmc, posterior_predictive = ppc_samples)"
   ]
  },
  {
   "cell_type": "code",
   "execution_count": null,
   "id": "0a3874e6-7632-4684-8d80-2ca54cb94f74",
   "metadata": {},
   "outputs": [],
   "source": [
    "idata_ppc"
   ]
  },
  {
   "cell_type": "markdown",
   "id": "d531715c-8bf0-42aa-818d-67602858f0cf",
   "metadata": {},
   "source": [
    "idata_ppc ができたら確認していく"
   ]
  },
  {
   "cell_type": "code",
   "execution_count": null,
   "id": "cc3f5292-5622-42c6-ad15-52d15bed66f1",
   "metadata": {},
   "outputs": [],
   "source": [
    "ppc_mean = ppc_samples['obs'].mean(axis = 1)\n",
    "ppc_var = ppc_samples['obs'].var(axis = 1)"
   ]
  },
  {
   "cell_type": "code",
   "execution_count": null,
   "id": "3e227169-b206-4ecd-925b-279499230ae9",
   "metadata": {},
   "outputs": [],
   "source": [
    "fig, axes = plt.subplots(1, 2, figsize = (12, 4))\n",
    "\n",
    "sns.kdeplot(ppc_mean, ax = axes[0])\n",
    "axes[0].axvline(y.mean(), color = 'r', linestyle = 'dashed')\n",
    "axes[0].set_xlabel('stats = mean')\n",
    "\n",
    "sns.kdeplot(ppc_var, ax = axes[1])\n",
    "axes[1].axvline(y.var(), color = 'r', linestyle = 'dashed')\n",
    "axes[1].set_xlabel('stats = var')"
   ]
  },
  {
   "cell_type": "code",
   "execution_count": null,
   "id": "9209185f-266b-4b71-9c1d-37ab3a4eeb78",
   "metadata": {},
   "outputs": [],
   "source": [
    "az.plot_ppc(idata_ppc, kind = 'kde', num_pp_samples = 50, figsize = (12, 4))"
   ]
  },
  {
   "cell_type": "code",
   "execution_count": null,
   "id": "9b14b0ab-8be8-4442-be00-258d28c1cc00",
   "metadata": {},
   "outputs": [],
   "source": [
    "az.plot_ppc(idata_ppc, kind = 'kde', num_pp_samples = 3000, figsize = (12, 4))"
   ]
  },
  {
   "cell_type": "markdown",
   "id": "8e83c681-39e7-4439-8c6a-55549be65e0a",
   "metadata": {},
   "source": [
    "実際のデータ（黒線ヒストグラム）が、推定したモデルから得られたサンプリング（3000本の青線ヒストグラム）に埋もれているから大丈夫そうですね、という話"
   ]
  },
  {
   "cell_type": "markdown",
   "id": "5f51c9bb-fec4-4378-b44d-c8e8d39b1d74",
   "metadata": {},
   "source": [
    "### A/B 比較について"
   ]
  },
  {
   "cell_type": "code",
   "execution_count": null,
   "id": "9a3a0a1a-44f7-4df9-baaa-53949e627e5a",
   "metadata": {},
   "outputs": [],
   "source": [
    "sns.displot(data = data, x = 'yield', hue = 'group', col = 'group')"
   ]
  },
  {
   "cell_type": "code",
   "execution_count": null,
   "id": "110786b1-ff5b-4d5f-b11a-2baddb852edc",
   "metadata": {},
   "outputs": [],
   "source": [
    "data.groupby('group').mean()"
   ]
  },
  {
   "cell_type": "code",
   "execution_count": null,
   "id": "9d730924-d84e-49e7-8058-ae1f72dd4c31",
   "metadata": {},
   "outputs": [],
   "source": [
    "y = data['yield'].values\n",
    "g = data['group'].values"
   ]
  },
  {
   "cell_type": "code",
   "execution_count": null,
   "id": "2338d5b8-67c3-49ba-be87-86191c474d7a",
   "metadata": {},
   "outputs": [],
   "source": [
    "def model(y = None, g = None, num_data = 0):\n",
    "    mu = numpyro.sample('mu', dist.HalfNormal(10), sample_shape = (2,))\n",
    "\n",
    "    mu_dup = mu[g]\n",
    "\n",
    "    with numpyro.plate('data', num_data):\n",
    "        numpyro.sample('obs', dist.Poisson(mu_dup), obs = y)\n",
    "\n",
    "    mu_diff = numpyro.deterministic('mu_diff', mu[1] - mu[0])"
   ]
  },
  {
   "cell_type": "code",
   "execution_count": null,
   "id": "310a07e4-42ad-436f-88e0-ee0a41caf9e5",
   "metadata": {},
   "outputs": [],
   "source": [
    "nuts = numpyro.infer.NUTS(model)\n",
    "mcmc = numpyro.infer.MCMC(nuts, num_warmup = 500, num_samples = 3000, num_chains = 4)\n",
    "\n",
    "mcmc.run(jax.random.PRNGKey(0), y = y, g = g, num_data = len(y))"
   ]
  },
  {
   "cell_type": "code",
   "execution_count": null,
   "id": "96592bc9-da89-43f4-9a7a-037d2edef88b",
   "metadata": {},
   "outputs": [],
   "source": [
    "mcmc_samples = mcmc.get_samples()"
   ]
  },
  {
   "cell_type": "code",
   "execution_count": null,
   "id": "93515361-2dfe-409c-ab4a-fab499fce7f3",
   "metadata": {},
   "outputs": [],
   "source": [
    "idata = az.from_numpyro(mcmc)"
   ]
  },
  {
   "cell_type": "code",
   "execution_count": null,
   "id": "7c8bddab-ca9a-439f-9eab-15c001096e39",
   "metadata": {},
   "outputs": [],
   "source": [
    "az.plot_trace(idata)"
   ]
  },
  {
   "cell_type": "markdown",
   "id": "0f4ded68-5997-49ad-8b0e-784da033f621",
   "metadata": {},
   "source": [
    "### A/Bのパラメーターを比較する"
   ]
  },
  {
   "cell_type": "code",
   "execution_count": null,
   "id": "27877261-9a5c-4bd6-8829-0c82aa6cf327",
   "metadata": {},
   "outputs": [],
   "source": [
    "az.plot_posterior(idata, var_names = ['mu_diff'], ref_val = 0) \n",
    "plt.xlabel('$\\lambda_1 - \\lambda_0$', fontsize = 18)"
   ]
  },
  {
   "cell_type": "markdown",
   "id": "5f1fd27a-c954-4bab-81f3-209cc9f488ce",
   "metadata": {},
   "source": [
    "### ポイント\n",
    "ここでベイズの旨み。有意水準だと5％ないので有意と言えない、となってしまうが、実際にはこんな形の差になりそうだという分布が出てくるので直感的に理解しやすい"
   ]
  },
  {
   "cell_type": "markdown",
   "id": "3f7ac442-8d0c-4e98-9e6c-0d01ec1a2d2c",
   "metadata": {},
   "source": [
    "# ゼロ過剰ポワソン"
   ]
  },
  {
   "cell_type": "code",
   "execution_count": null,
   "id": "604b1aa4-c1af-4329-a76f-33110a4fbc44",
   "metadata": {},
   "outputs": [],
   "source": [
    "data_2 = pd.DataFrame({\n",
    "    'yield':[0, 0, 0, 0, 0, 0, 0, 0, 0, 0, 0, 0, 0, 0, 0, 1, 0, 1, 0, 2, 0, 3, 0, 2, 0, 2,\n",
    "             0, 2, 0, 0, 0, 1, 0, 1, 0, 1, 0, 1, 0, 1, 0, 1, 0, 1, 0, 1, 0, 0, 0, 1, 0, 1, 0, 3, 0,\n",
    "             1, 0, 0, 0, 1, 0, 1, 0, 1, 0, 0, 0, 0, 0, 0, 0, 0, 0, 0, 0, 0, 0, 0, 0, 0],\n",
    "    'group':[0, 0, 0, 0, 0, 0, 0, 0, 0, 0, 0, 0, 0, 0, 0, 0, 0, 0, 0, 0, \n",
    "             0, 0, 0, 0, 0, 0, 0, 0, 0, 0, 0, 0, 0, 0, 0, 0, 0, 0, 0, 0, 0, 0, 0, 0, 0, 0, 0, 0, 0, 0, \n",
    "             1, 1, 1, 1, 1, 1, 1, 1, 1, 1, 1, 1, 1, 1, 1, 1, 1, 1, 1, 1, 1, 1, 1, 1, 1, 1, 1, 1, 1, 1]\n",
    "})"
   ]
  },
  {
   "cell_type": "code",
   "execution_count": null,
   "id": "1c649241-5ae7-4293-91e5-c4f9cfd54d3a",
   "metadata": {},
   "outputs": [],
   "source": [
    "y_2 = data_2['yield'].values\n",
    "g_2 = data_2['group'].values"
   ]
  },
  {
   "cell_type": "code",
   "execution_count": null,
   "id": "fe1a9941-0708-4993-a3af-028d39250a85",
   "metadata": {},
   "outputs": [],
   "source": [
    "np.mean(y_2)"
   ]
  },
  {
   "cell_type": "code",
   "execution_count": null,
   "id": "df3d4dfc-4f8d-4f74-aa93-973e278ee2c9",
   "metadata": {},
   "outputs": [],
   "source": [
    "np.var(y_2)"
   ]
  },
  {
   "cell_type": "code",
   "execution_count": null,
   "id": "33a04d3f-bec1-46aa-9c92-825e03fcefee",
   "metadata": {},
   "outputs": [],
   "source": [
    "fig, axes = plt.subplots(1, 2, figsize = (12, 4))\n",
    "\n",
    "sns.histplot(y_2, binwidth = 0.5, ax = axes[0])\n",
    "axes[0].set_xlabel('Yield')\n",
    "\n",
    "sns.histplot(y_2, binwidth = 0.5, ax = axes[1])\n",
    "axes[1].set_xlabel('Yield')\n",
    "\n",
    "plt.tight_layout()"
   ]
  },
  {
   "cell_type": "code",
   "execution_count": null,
   "id": "73096b10-c611-4475-b9c3-c7ef1c38551b",
   "metadata": {},
   "outputs": [],
   "source": [
    "def model_2(y = None, g = None, num_data = 0):\n",
    "\n",
    "    psi = numpyro.sample('psi', dist.Uniform(low = 0.0, high = 1.0), sample_shape = (2,))\n",
    "    lam = numpyro.sample('mu', dist.HalfNormal(10), sample_shape = (2,))\n",
    "\n",
    "    psi_dup = psi[g]\n",
    "    lam_dup = lam[g]\n",
    "\n",
    "    with numpyro.plate('data', num_data):\n",
    "        numpyro.sample('obs', dist.ZeroInflatedPoisson(psi_dup, rate = lam_dup), obs = y)\n",
    "\n",
    "    psi_diff = numpyro.deterministic('psi_diff', psi[1] - psi[0])\n",
    "    lam_diff = numpyro.deterministic('lam_diff', lam[1] - lam[0])"
   ]
  },
  {
   "cell_type": "code",
   "execution_count": null,
   "id": "c2042cf6-e767-4bdf-b660-6c4239cb0c11",
   "metadata": {},
   "outputs": [],
   "source": [
    "nuts = numpyro.infer.NUTS(model_2)\n",
    "mcmc_2 = numpyro.infer.MCMC(nuts, num_warmup = 500, num_samples = 3000, num_chains = 4)\n",
    "\n",
    "mcmc_2.run(jax.random.PRNGKey(0), y = y_2, g = g_2, num_data = len(y_2))"
   ]
  },
  {
   "cell_type": "code",
   "execution_count": null,
   "id": "dc9704bd-61de-43cf-98df-2a646a922e92",
   "metadata": {},
   "outputs": [],
   "source": [
    "mcmc_samples_2 = mcmc_2.get_samples()"
   ]
  },
  {
   "cell_type": "code",
   "execution_count": null,
   "id": "c4176454-46e7-4411-bc77-c83a68b6f620",
   "metadata": {},
   "outputs": [],
   "source": [
    "idata_2 = az.from_numpyro(mcmc_2)"
   ]
  },
  {
   "cell_type": "code",
   "execution_count": null,
   "id": "b2dfad57-3fc0-465a-a10d-3a1b552b1081",
   "metadata": {},
   "outputs": [],
   "source": [
    "az.plot_trace(idata_2);"
   ]
  },
  {
   "cell_type": "markdown",
   "id": "11d9e1f6-d78b-482f-9be5-d538eb3ce5b3",
   "metadata": {},
   "source": [
    "事後予測チェック"
   ]
  },
  {
   "cell_type": "code",
   "execution_count": null,
   "id": "8f500863-e947-4791-a105-a3b86825ab81",
   "metadata": {},
   "outputs": [],
   "source": [
    "az.plot_posterior(idata_2, var_names = ['psi_diff'], ref_val = 0) \n",
    "plt.xlabel('$\\psi_1 - \\psi_0$', fontsize = 18)"
   ]
  },
  {
   "cell_type": "code",
   "execution_count": null,
   "id": "49570914-72f0-43f1-95cd-226437a24aa6",
   "metadata": {},
   "outputs": [],
   "source": [
    "az.plot_posterior(idata_2, var_names = ['lam_diff'], ref_val = 0) \n",
    "plt.xlabel('$\\lambda_1 - \\lambda_0$', fontsize = 18)"
   ]
  },
  {
   "cell_type": "markdown",
   "id": "5eedf22e-9c8c-46c7-8d75-ff630006f32c",
   "metadata": {},
   "source": [
    "### 情報基準（WAIC）"
   ]
  },
  {
   "cell_type": "code",
   "execution_count": null,
   "id": "266126fc-ea06-45fa-a8d1-c9cb95ba3f31",
   "metadata": {},
   "outputs": [],
   "source": [
    "az.waic(idata, scale = 'deviance')"
   ]
  },
  {
   "cell_type": "code",
   "execution_count": null,
   "id": "8eb2026a-0e91-4f23-ad14-6e350f3556f6",
   "metadata": {},
   "outputs": [],
   "source": [
    "az.waic(idata_2, scale = 'deviance')"
   ]
  },
  {
   "cell_type": "code",
   "execution_count": null,
   "id": "bbcba19f-d5ee-40c1-93ef-9ccbb5f0560b",
   "metadata": {},
   "outputs": [],
   "source": [
    "dict_idata = {'Poisson':idata, 'ZeroInfPoisson': idata_2}\n",
    "\n",
    "df_waic = az.compare(dict_idata, ic = 'waic', scale = 'deviance')"
   ]
  },
  {
   "cell_type": "code",
   "execution_count": null,
   "id": "e2b71f77-c7a7-47f7-a505-0dc5810ed73d",
   "metadata": {},
   "outputs": [],
   "source": [
    "df_waic"
   ]
  },
  {
   "cell_type": "code",
   "execution_count": null,
   "id": "58253676-5b94-4792-a027-d51c0379424f",
   "metadata": {},
   "outputs": [],
   "source": [
    "az.plot_compare(df_waic, figsize = (8,3))"
   ]
  },
  {
   "cell_type": "markdown",
   "id": "ec354bf9-4397-4bc7-97f6-80187fccea1e",
   "metadata": {},
   "source": [
    "# 線形回帰"
   ]
  },
  {
   "cell_type": "code",
   "execution_count": 58,
   "id": "c2bc0f18-67aa-4030-b228-873f3db26ba8",
   "metadata": {},
   "outputs": [],
   "source": [
    "# 全体の値に対して線形回帰を行う場合\n",
    "\n",
    "def model_linear(x_scaled = None, y_scaled = None, num_data = 0):\n",
    "    a = numpyro.sample('a', dist.Normal(0, 10))\n",
    "    b = numpyro.sample('b', dist.Normal(0, 10))\n",
    "\n",
    "    mu = a * x_scale + b # 線形回帰式\n",
    "\n",
    "    sa = numpyro.sample('sd', dist.HalfCauchy(5))\n",
    "\n",
    "    with nupyro.plate('data', num_data):\n",
    "        numpyro.sample('obs', dist.Normal(mu, sd), obs = y_scaled)"
   ]
  },
  {
   "cell_type": "code",
   "execution_count": 57,
   "id": "fb5db1e5-e149-4005-ab0f-1648242e6853",
   "metadata": {},
   "outputs": [],
   "source": [
    "# ex. 男女の値に対して線形回帰を行う場合\n",
    "\n",
    "def model_linear_2_groups(x_scaled = None, y_scaled = None, group = None, num_data = 0):\n",
    "    a = numpyro.sample('a', dist.Normal(0, 10), sample_shape = (2,))\n",
    "    b = numpyro.sample('b', dist.Normal(0, 10), sample_shape = (2,))\n",
    "\n",
    "    mu = a[group] * x_scaled + b[group] # 線形回帰式\n",
    "\n",
    "    sa = numpyro.sample('sd', dist.HalfCauchy(5))\n",
    "\n",
    "    with nupyro.plate('plate_obs', num_data):\n",
    "        numpyro.sample('obs', dist.Normal(mu, sd), obs = y_scaled)"
   ]
  },
  {
   "cell_type": "code",
   "execution_count": null,
   "id": "ad4290a9-13b3-4a40-8a06-0638de655724",
   "metadata": {},
   "outputs": [],
   "source": []
  },
  {
   "cell_type": "code",
   "execution_count": null,
   "id": "eb31dbcf-b32c-43b3-95c5-4bdb521acd06",
   "metadata": {},
   "outputs": [],
   "source": []
  },
  {
   "cell_type": "code",
   "execution_count": null,
   "id": "7eb3fdce-f4c7-4025-84be-ff335fa42c63",
   "metadata": {},
   "outputs": [],
   "source": []
  },
  {
   "cell_type": "code",
   "execution_count": null,
   "id": "222410d9-6eeb-4439-b059-d5faf4785de3",
   "metadata": {},
   "outputs": [],
   "source": []
  }
 ],
 "metadata": {
  "kernelspec": {
   "display_name": "Python 3 (ipykernel)",
   "language": "python",
   "name": "python3"
  },
  "language_info": {
   "codemirror_mode": {
    "name": "ipython",
    "version": 3
   },
   "file_extension": ".py",
   "mimetype": "text/x-python",
   "name": "python",
   "nbconvert_exporter": "python",
   "pygments_lexer": "ipython3",
   "version": "3.9.7"
  }
 },
 "nbformat": 4,
 "nbformat_minor": 5
}
