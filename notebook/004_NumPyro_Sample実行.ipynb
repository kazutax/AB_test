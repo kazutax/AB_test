{
 "cells": [
  {
   "cell_type": "markdown",
   "id": "fdb6249b-55ff-4682-88b1-610b7443db27",
   "metadata": {},
   "source": [
    "# NumPyro Sample 実行"
   ]
  },
  {
   "cell_type": "markdown",
   "id": "9b17b87e-574d-42ac-a85c-c6beaf6860b4",
   "metadata": {},
   "source": [
    "## Libs"
   ]
  },
  {
   "cell_type": "code",
   "execution_count": 1,
   "id": "7bfbc6c2-d9cb-4c4a-8cbb-0055baf4f1e2",
   "metadata": {},
   "outputs": [],
   "source": [
    "import numpyro\n",
    "import numpyro.distributions as dist\n",
    "\n",
    "import jax\n",
    "import arviz as az\n",
    "\n",
    "import numpy as np\n",
    "import pandas as pd\n",
    "\n",
    "import matplotlib.pyplot as plt\n",
    "import seaborn as sns"
   ]
  },
  {
   "cell_type": "code",
   "execution_count": 2,
   "id": "f7115700-da7a-4737-a7af-8ef1b0b7bea6",
   "metadata": {},
   "outputs": [
    {
     "data": {
      "text/plain": [
       "[CpuDevice(id=0)]"
      ]
     },
     "execution_count": 2,
     "metadata": {},
     "output_type": "execute_result"
    }
   ],
   "source": [
    "jax.devices()"
   ]
  },
  {
   "cell_type": "markdown",
   "id": "8d80877c-2437-4289-90f6-f24dd57d023a",
   "metadata": {},
   "source": [
    "## Model 定義"
   ]
  },
  {
   "cell_type": "code",
   "execution_count": null,
   "id": "22647aa4-cfe7-493f-8ca2-5a15c53bffee",
   "metadata": {},
   "outputs": [],
   "source": [
    "def model(y = None, num_data = 0):\n",
    "\n",
    "    # パラメーターの事前分布\n",
    "    mu = numpyro.sample('mu', dist.HalfNormal(10))\n",
    "\n",
    "    # 観測データ（Y）に基づく尤度の定義\n",
    "    with numpyro.plate('data', num_data):\n",
    "        # plateはfor文的な処理。グラフィカルモデル用語。\n",
    "        \n",
    "        numpyro.sample('obs', dist.Poisson(mu), obs = y)"
   ]
  },
  {
   "cell_type": "markdown",
   "id": "14b25c62-1d95-4451-8e40-5b448c6d57b9",
   "metadata": {},
   "source": [
    "## 推論"
   ]
  },
  {
   "cell_type": "code",
   "execution_count": null,
   "id": "1be88888-aab0-4b3e-b20f-328112592d31",
   "metadata": {},
   "outputs": [],
   "source": [
    "nuts = numpyro.infer.NUTS(model)\n",
    "mcmc = numpyro.infer.MCMC(nuts, num_warmup = 500, num_samples = 3000, num_chains = 4)\n",
    "mcmc.run(jax.random.PRNGKey(42), y = y, num_data = len(y))\n",
    "mcmc_samples = mcmc.get_samples()"
   ]
  },
  {
   "cell_type": "markdown",
   "id": "db07c3a3-0688-4202-a11a-dbb2b1bedc69",
   "metadata": {},
   "source": [
    "## 分析準備"
   ]
  },
  {
   "cell_type": "code",
   "execution_count": null,
   "id": "072f74aa-ae97-4027-80a3-84ea26b43af0",
   "metadata": {},
   "outputs": [],
   "source": [
    "# InferenceData オブジェクトへの変換（az のフォーマットに変換してあげるだけ）\n",
    "idata = az.from_numpyro(mcmc)"
   ]
  },
  {
   "cell_type": "markdown",
   "id": "4bbe6661-b551-49e0-aca1-39e4f82b7c0b",
   "metadata": {},
   "source": [
    "## 収束チェック"
   ]
  },
  {
   "cell_type": "code",
   "execution_count": null,
   "id": "bd7e178e-5039-496f-9790-59483a4b5599",
   "metadata": {},
   "outputs": [],
   "source": [
    "az.plot_trace(idata)"
   ]
  },
  {
   "cell_type": "code",
   "execution_count": null,
   "id": "924b746a-ddef-4574-adbd-f87032352dcc",
   "metadata": {},
   "outputs": [],
   "source": [
    "# 基本的には R hat が 1.1未満ならOK\n",
    "az.summary(idata)"
   ]
  },
  {
   "cell_type": "code",
   "execution_count": null,
   "id": "cb1ceb68-335a-4c86-8eca-822587b19406",
   "metadata": {},
   "outputs": [],
   "source": [
    "# 基本的には HDI をチェック（Highest Density Interval 最高密度区間 の略）実際にMCMCサンプリングした94%がここに入ってるよていう話\n",
    "az.plot_posterior(idata)"
   ]
  },
  {
   "cell_type": "code",
   "execution_count": null,
   "id": "58a29ed2-5378-4c29-bebe-c111f5286c86",
   "metadata": {},
   "outputs": [],
   "source": []
  },
  {
   "cell_type": "code",
   "execution_count": null,
   "id": "e51b09b6-c8b1-4f89-aee8-9fdfca9e29ce",
   "metadata": {},
   "outputs": [],
   "source": []
  }
 ],
 "metadata": {
  "kernelspec": {
   "display_name": "Python 3 (ipykernel)",
   "language": "python",
   "name": "python3"
  },
  "language_info": {
   "codemirror_mode": {
    "name": "ipython",
    "version": 3
   },
   "file_extension": ".py",
   "mimetype": "text/x-python",
   "name": "python",
   "nbconvert_exporter": "python",
   "pygments_lexer": "ipython3",
   "version": "3.9.7"
  }
 },
 "nbformat": 4,
 "nbformat_minor": 5
}
