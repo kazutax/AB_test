{
 "cells": [
  {
   "cell_type": "code",
   "execution_count": 1,
   "id": "89db317b-9835-49c6-a0f0-64c4c09b92e8",
   "metadata": {},
   "outputs": [],
   "source": [
    "import numpy as np\n",
    "import random\n",
    "import pandas as pd\n",
    "from matplotlib import pyplot as plt\n",
    "import string"
   ]
  },
  {
   "cell_type": "code",
   "execution_count": 2,
   "id": "8341e6e0-a6ea-4364-99b5-ba58c7769093",
   "metadata": {},
   "outputs": [],
   "source": [
    "rng = np.random.default_rng(42)\n",
    "n = 340000\n",
    "\n",
    "ab_status = random.choices('ABX', weights = (33, 33, 34),  k = n)\n",
    "uu_id = [\"\".join([random.choice(string.ascii_lowercase + string.digits) for _ in range(30)]) for _ in range(n)]\n",
    "cv_flg = rng.binomial(n = 1, p = 0.2, size = n)\n",
    "\n",
    "sample_df = pd.DataFrame(zip(ab_status, uu_id, cv_flg), columns = ['ab_status', 'uu_id', 'cv_flg'])"
   ]
  },
  {
   "cell_type": "code",
   "execution_count": 3,
   "id": "e33fe820-7110-4611-afa8-6174fa23997d",
   "metadata": {},
   "outputs": [
    {
     "data": {
      "text/html": [
       "<div>\n",
       "<style scoped>\n",
       "    .dataframe tbody tr th:only-of-type {\n",
       "        vertical-align: middle;\n",
       "    }\n",
       "\n",
       "    .dataframe tbody tr th {\n",
       "        vertical-align: top;\n",
       "    }\n",
       "\n",
       "    .dataframe thead th {\n",
       "        text-align: right;\n",
       "    }\n",
       "</style>\n",
       "<table border=\"1\" class=\"dataframe\">\n",
       "  <thead>\n",
       "    <tr style=\"text-align: right;\">\n",
       "      <th></th>\n",
       "      <th>ab_status</th>\n",
       "      <th>uu_id</th>\n",
       "      <th>cv_flg</th>\n",
       "    </tr>\n",
       "  </thead>\n",
       "  <tbody>\n",
       "    <tr>\n",
       "      <th>0</th>\n",
       "      <td>B</td>\n",
       "      <td>eoivgy700a3xuo8ovekdw33cb0y3ft</td>\n",
       "      <td>0</td>\n",
       "    </tr>\n",
       "    <tr>\n",
       "      <th>1</th>\n",
       "      <td>B</td>\n",
       "      <td>n35euwljz49y5lj4ef5tq5jvs3uyr6</td>\n",
       "      <td>0</td>\n",
       "    </tr>\n",
       "    <tr>\n",
       "      <th>2</th>\n",
       "      <td>B</td>\n",
       "      <td>dhoc5qw1xnnsan2guzgerqzf0xew4f</td>\n",
       "      <td>1</td>\n",
       "    </tr>\n",
       "    <tr>\n",
       "      <th>3</th>\n",
       "      <td>X</td>\n",
       "      <td>cn96r4ie7g8efr4uzsc1jr3u0fy9xe</td>\n",
       "      <td>0</td>\n",
       "    </tr>\n",
       "    <tr>\n",
       "      <th>4</th>\n",
       "      <td>A</td>\n",
       "      <td>xv0sowrzovqrxubtbsujzq6c9msuvf</td>\n",
       "      <td>0</td>\n",
       "    </tr>\n",
       "  </tbody>\n",
       "</table>\n",
       "</div>"
      ],
      "text/plain": [
       "  ab_status                           uu_id  cv_flg\n",
       "0         B  eoivgy700a3xuo8ovekdw33cb0y3ft       0\n",
       "1         B  n35euwljz49y5lj4ef5tq5jvs3uyr6       0\n",
       "2         B  dhoc5qw1xnnsan2guzgerqzf0xew4f       1\n",
       "3         X  cn96r4ie7g8efr4uzsc1jr3u0fy9xe       0\n",
       "4         A  xv0sowrzovqrxubtbsujzq6c9msuvf       0"
      ]
     },
     "execution_count": 3,
     "metadata": {},
     "output_type": "execute_result"
    }
   ],
   "source": [
    "sample_df.head()"
   ]
  },
  {
   "cell_type": "code",
   "execution_count": 5,
   "id": "b3a3321d-46e0-40d8-b948-7abf012c3982",
   "metadata": {},
   "outputs": [],
   "source": [
    "sample_df.to_pickle('data/sample_df.pkl')"
   ]
  },
  {
   "cell_type": "code",
   "execution_count": null,
   "id": "37ea0e50-5edd-45c9-adbb-95639251e258",
   "metadata": {},
   "outputs": [],
   "source": []
  },
  {
   "cell_type": "code",
   "execution_count": null,
   "id": "5b80910d-93d3-4faf-bfc1-b7d288454997",
   "metadata": {},
   "outputs": [],
   "source": []
  },
  {
   "cell_type": "code",
   "execution_count": null,
   "id": "5674b24d-9284-4311-b8af-fa297f536b9f",
   "metadata": {},
   "outputs": [],
   "source": []
  }
 ],
 "metadata": {
  "kernelspec": {
   "display_name": "Python 3 (ipykernel)",
   "language": "python",
   "name": "python3"
  },
  "language_info": {
   "codemirror_mode": {
    "name": "ipython",
    "version": 3
   },
   "file_extension": ".py",
   "mimetype": "text/x-python",
   "name": "python",
   "nbconvert_exporter": "python",
   "pygments_lexer": "ipython3",
   "version": "3.9.7"
  }
 },
 "nbformat": 4,
 "nbformat_minor": 5
}
